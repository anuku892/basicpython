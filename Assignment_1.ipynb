{
 "cells": [
  {
   "cell_type": "markdown",
   "id": "0d8d1cb2",
   "metadata": {},
   "source": [
    "1. In the below elements which of them are values or an expression? eg:- values can be\n",
    "integer or string and expressions will be mathematical operators.\n",
    "* : Expression\n",
    "'hello' :Values\n",
    "-87.8 : Values\n",
    "- : Expression\n",
    "/ : Expression\n",
    "+ : Expression\n",
    "6 : Values"
   ]
  },
  {
   "cell_type": "markdown",
   "id": "19950a1c",
   "metadata": {},
   "source": [
    "2. What is the difference between string and variable?\n",
    "\n",
    "a. A Variable is the name given to a memory location in a program. String is a data type in python which can be stored in variables."
   ]
  },
  {
   "cell_type": "markdown",
   "id": "16275f2b",
   "metadata": {},
   "source": [
    "3. Describe three different data types.\n",
    "\n",
    "1. Integer: It contain numeric values. for eg. 67,89,-4,-878,9\n",
    "2. String : string is a sequence of characters enclosed in quotes. For eg. \"Mango\"\n",
    "3. Boolean : It contains True or False Value."
   ]
  },
  {
   "cell_type": "markdown",
   "id": "e0475879",
   "metadata": {},
   "source": [
    "4. What is an expression made up of? What do all expressions do?\n",
    "\n",
    "Expressions are combinations of values, variables, operators, and function calls that produce a result."
   ]
  },
  {
   "cell_type": "markdown",
   "id": "88b7175b",
   "metadata": {},
   "source": [
    "5. This assignment statements, like spam = 10. What is the difference between an expression and a statement?\n",
    "\n",
    "An expression is a combination of values, variables, operators, and function calls that can be evaluated to produce a result.\n",
    "A statement is a complete unit of code that performs an action or a sequence of actions. It often represents a complete instruction or a command that Python can execute."
   ]
  },
  {
   "cell_type": "markdown",
   "id": "4f6d11f8",
   "metadata": {},
   "source": [
    "6. After running the following code, what does the variable bacon contain?\n",
    "bacon = 22\n",
    "bacon + 1\n",
    "\n",
    "Ans: 22"
   ]
  },
  {
   "cell_type": "code",
   "execution_count": 1,
   "id": "18d51c5e",
   "metadata": {},
   "outputs": [
    {
     "data": {
      "text/plain": [
       "23"
      ]
     },
     "execution_count": 1,
     "metadata": {},
     "output_type": "execute_result"
    }
   ],
   "source": [
    "bacon = 22\n",
    "bacon + 1"
   ]
  },
  {
   "cell_type": "code",
   "execution_count": 3,
   "id": "638a1a8a",
   "metadata": {},
   "outputs": [
    {
     "name": "stdout",
     "output_type": "stream",
     "text": [
      "22\n"
     ]
    }
   ],
   "source": [
    "print(bacon)"
   ]
  },
  {
   "cell_type": "markdown",
   "id": "16c88eb2",
   "metadata": {},
   "source": [
    "7. What should the values of the following two terms be?\n",
    "'spam'+'spamspam'\n",
    "'spam'*3\n",
    "Ans- 'spamspamspam'. Both have same value."
   ]
  },
  {
   "cell_type": "code",
   "execution_count": 4,
   "id": "3890251c",
   "metadata": {},
   "outputs": [
    {
     "data": {
      "text/plain": [
       "'spamspamspam'"
      ]
     },
     "execution_count": 4,
     "metadata": {},
     "output_type": "execute_result"
    }
   ],
   "source": [
    "'spam'+'spamspam'"
   ]
  },
  {
   "cell_type": "code",
   "execution_count": 5,
   "id": "d8ca2d72",
   "metadata": {},
   "outputs": [
    {
     "data": {
      "text/plain": [
       "'spamspamspam'"
      ]
     },
     "execution_count": 5,
     "metadata": {},
     "output_type": "execute_result"
    }
   ],
   "source": [
    "'spam'*3"
   ]
  },
  {
   "cell_type": "markdown",
   "id": "3ff415f1",
   "metadata": {},
   "source": [
    "8. Why is eggs a valid variable name while 100 is invalid?\n",
    "Ans- eggs is a valid variable name while 100 is invalid because variable name only starts with alphabets and underscore.\n"
   ]
  },
  {
   "cell_type": "markdown",
   "id": "7e7606d7",
   "metadata": {},
   "source": [
    "9. What three functions can be used to get the integer, floating-point number, or string\n",
    "version of a value?\n",
    "Ans- For integer\n",
    "      int()\n",
    "     For floating-point number\n",
    "        float()\n",
    "     For string\n",
    "        str()"
   ]
  },
  {
   "cell_type": "markdown",
   "id": "f9929865",
   "metadata": {},
   "source": [
    "10. Why does this expression cause an error? How can you fix it?\n",
    "'I have eaten' + 99 +'burriots.'\n",
    "Ans- Because, concatenation of string with integers is not possible."
   ]
  }
 ],
 "metadata": {
  "kernelspec": {
   "display_name": "Python 3 (ipykernel)",
   "language": "python",
   "name": "python3"
  },
  "language_info": {
   "codemirror_mode": {
    "name": "ipython",
    "version": 3
   },
   "file_extension": ".py",
   "mimetype": "text/x-python",
   "name": "python",
   "nbconvert_exporter": "python",
   "pygments_lexer": "ipython3",
   "version": "3.9.12"
  }
 },
 "nbformat": 4,
 "nbformat_minor": 5
}
